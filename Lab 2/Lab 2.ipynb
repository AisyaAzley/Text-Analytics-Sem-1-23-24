{
 "cells": [
  {
   "cell_type": "code",
   "execution_count": 2,
   "id": "2e829463",
   "metadata": {},
   "outputs": [
    {
     "name": "stdout",
     "output_type": "stream",
     "text": [
      "<re.Match object; span=(0, 1), match='I'>\n"
     ]
    }
   ],
   "source": [
    "#importing regular expression library \n",
    "import re \n",
    "    \n",
    "#using re.match \n",
    "#to find the first occurrence of the letter 'I' in the string \n",
    " \n",
    "sentence1 = re.match (r'I', 'I am learning text analytics') \n",
    "print (sentence1) \n",
    "\n"
   ]
  },
  {
   "cell_type": "code",
   "execution_count": 3,
   "id": "17ac590c",
   "metadata": {},
   "outputs": [
    {
     "name": "stdout",
     "output_type": "stream",
     "text": [
      "None\n"
     ]
    }
   ],
   "source": [
    "#using re.match \n",
    "#to find the first occurrence of the letter 'v' in the string \n",
    " \n",
    "sentence2 = re.match (r'v', 'I am learning text analytics') \n",
    "print (sentence2) \n"
   ]
  },
  {
   "cell_type": "code",
   "execution_count": 4,
   "id": "04ed33b4",
   "metadata": {},
   "outputs": [
    {
     "name": "stdout",
     "output_type": "stream",
     "text": [
      "None\n"
     ]
    }
   ],
   "source": [
    "#using re.match \n",
    "#to find the first occurrence of the letter 'am' in the string \n",
    " \n",
    "sentence3 = re.match (r'am', 'I am learning text analytics') \n",
    "print (sentence3) \n"
   ]
  },
  {
   "cell_type": "code",
   "execution_count": 6,
   "id": "eefe58af",
   "metadata": {},
   "outputs": [
    {
     "name": "stdout",
     "output_type": "stream",
     "text": [
      "<re.Match object; span=(2, 4), match='am'>\n"
     ]
    }
   ],
   "source": [
    "#re.search()\n",
    "\n",
    "sentence4 = re.search(r'am', 'I am learning text analytics')  \n",
    "print (sentence4)"
   ]
  },
  {
   "cell_type": "code",
   "execution_count": 7,
   "id": "e8acf9d4",
   "metadata": {},
   "outputs": [
    {
     "name": "stdout",
     "output_type": "stream",
     "text": [
      "<re.Match object; span=(2, 4), match='am'>\n"
     ]
    }
   ],
   "source": [
    "sentence5 = re.search(r'am', 'I am learning text analytics and am enjoying it')  \n",
    "print (sentence5)  \n"
   ]
  },
  {
   "cell_type": "code",
   "execution_count": 8,
   "id": "4e9797e5",
   "metadata": {},
   "outputs": [
    {
     "name": "stdout",
     "output_type": "stream",
     "text": [
      "['am', 'am']\n"
     ]
    }
   ],
   "source": [
    "#re.findall()\n",
    "\n",
    "sentence6 = re.findall(r'am', 'I am learning text analytics and am enjoying it')  \n",
    "print (sentence6)  \n"
   ]
  },
  {
   "cell_type": "code",
   "execution_count": 9,
   "id": "6174c42b",
   "metadata": {},
   "outputs": [
    {
     "name": "stdout",
     "output_type": "stream",
     "text": [
      "['I am learning text analytics ', ' am enjoying it']\n"
     ]
    }
   ],
   "source": [
    "#re.split\n",
    "\n",
    "sentence7 = re.split(r'and', 'I am learning text analytics and am enjoying it')  \n",
    "print (sentence7)  \n"
   ]
  },
  {
   "cell_type": "code",
   "execution_count": 10,
   "id": "22b5fd41",
   "metadata": {},
   "outputs": [
    {
     "name": "stdout",
     "output_type": "stream",
     "text": [
      "['I ', ' learning text analytics and ', ' enjoying it']\n"
     ]
    }
   ],
   "source": [
    "sentence8 = re.split(r'am', 'I am learning text analytics and am enjoying it')  \n",
    "print (sentence8)  \n"
   ]
  },
  {
   "cell_type": "code",
   "execution_count": 11,
   "id": "2eefb5ad",
   "metadata": {},
   "outputs": [
    {
     "name": "stdout",
     "output_type": "stream",
     "text": [
      "['I ', ' learning text analytics and am enjoying it']\n"
     ]
    }
   ],
   "source": [
    "sentence9 = re.split(r'am', 'I am learning text analytics and am enjoying it', maxsplit=1) \n",
    "print (sentence9)\n"
   ]
  },
  {
   "cell_type": "code",
   "execution_count": 12,
   "id": "163173d6",
   "metadata": {},
   "outputs": [
    {
     "name": "stdout",
     "output_type": "stream",
     "text": [
      "['I ', ' learning text analytics and ', ' enjoying it']\n"
     ]
    }
   ],
   "source": [
    "sentence9 = re.split(r'am', 'I am learning text analytics and am enjoying it', maxsplit=2) \n",
    "print (sentence9)  \n"
   ]
  },
  {
   "cell_type": "code",
   "execution_count": 13,
   "id": "4a275ad6",
   "metadata": {},
   "outputs": [
    {
     "name": "stdout",
     "output_type": "stream",
     "text": [
      "['I ', ' learning text analytics, I ', ' enjoying it and I ', ' going to ace it']\n"
     ]
    }
   ],
   "source": [
    "sentence10 = re.split(r'am', 'I am learning text analytics, I am enjoying it and I am going to ace it', maxsplit=3) \n",
    "print (sentence10)\n"
   ]
  },
  {
   "cell_type": "code",
   "execution_count": 14,
   "id": "ee16246d",
   "metadata": {},
   "outputs": [
    {
     "name": "stdout",
     "output_type": "stream",
     "text": [
      "we like text analytics and we enjoy learning it\n"
     ]
    }
   ],
   "source": [
    "#re.sub()\n",
    "\n",
    "sentence11 = re.sub(r'I', 'we', 'I like text analytics and I enjoy learning it') \n",
    "print (sentence11)  \n"
   ]
  },
  {
   "cell_type": "code",
   "execution_count": 15,
   "id": "68c44a6b",
   "metadata": {},
   "outputs": [
    {
     "name": "stdout",
     "output_type": "stream",
     "text": [
      "['I', ' ', 'a', 'm', ' ', 'l', 'e', 'a', 'r', 'n', 'i', 'n', 'g', ' ', 't', 'e', 'x', 't', ' ', 'a', 'n', 'a', 'l', 'y', 't', 'i', 'c', 's']\n"
     ]
    }
   ],
   "source": [
    "#Metacharacters\n",
    "# Metacharacter .\n",
    "\n",
    "sentence1 = re.findall (r'.', 'I am learning text analytics') \n",
    "print (sentence1) \n"
   ]
  },
  {
   "cell_type": "code",
   "execution_count": 17,
   "id": "cf6ab410",
   "metadata": {},
   "outputs": [
    {
     "name": "stdout",
     "output_type": "stream",
     "text": [
      "['I', 'a', 'm', 'l', 'e', 'a', 'r', 'n', 'i', 'n', 'g', 't', 'e', 'x', 't', 'a', 'n', 'a', 'l', 'y', 't', 'i', 'c', 's']\n"
     ]
    }
   ],
   "source": [
    "# Metacharacter \\w\n",
    "\n",
    "sentence2 = re.findall (r'\\w', 'I am learning text analytics') \n",
    "print (sentence2) \n",
    " \n",
    "# Each letter is selected excluding spaces \n"
   ]
  },
  {
   "cell_type": "code",
   "execution_count": 18,
   "id": "98b126ce",
   "metadata": {},
   "outputs": [
    {
     "name": "stdout",
     "output_type": "stream",
     "text": [
      "['I', '', 'am', '', 'learning', '', 'text', '', 'analytics', '']\n"
     ]
    }
   ],
   "source": [
    "# Metacharacter \\w*\n",
    "\n",
    "sentence3 = re.findall (r'\\w*', 'I am learning text analytics') \n",
    "print (sentence3) \n",
    " \n",
    "# Each word is selected including spaces \n"
   ]
  },
  {
   "cell_type": "code",
   "execution_count": 19,
   "id": "b2dce88c",
   "metadata": {},
   "outputs": [
    {
     "name": "stdout",
     "output_type": "stream",
     "text": [
      "['I', 'am', 'learning', 'text', 'analytics']\n"
     ]
    }
   ],
   "source": [
    "# Metacharacter \\w+\n",
    "\n",
    "sentence4 = re.findall (r'\\w+', 'I am learning text analytics') \n",
    "print (sentence4) \n",
    " \n",
    "# Each word is selected excluding spaces \n"
   ]
  },
  {
   "cell_type": "code",
   "execution_count": 20,
   "id": "5f83a57e",
   "metadata": {},
   "outputs": [
    {
     "name": "stdout",
     "output_type": "stream",
     "text": [
      "['I']\n"
     ]
    }
   ],
   "source": [
    "# Metacharacter ^\\w+\n",
    "\n",
    "sentence5 = re.findall (r'^\\w+', 'I am learning text analytics') \n",
    "print (sentence5) \n",
    " \n",
    "# First word is selected  \n"
   ]
  },
  {
   "cell_type": "code",
   "execution_count": 21,
   "id": "d88c1d98",
   "metadata": {},
   "outputs": [
    {
     "name": "stdout",
     "output_type": "stream",
     "text": [
      "['analytics']\n"
     ]
    }
   ],
   "source": [
    "# Metacharacter \\w+$\n",
    "\n",
    "sentence6 = re.findall (r'\\w+$', 'I am learning text analytics') \n",
    "print (sentence6) \n",
    " \n",
    "# Last word is selected  \n",
    "\n"
   ]
  },
  {
   "cell_type": "code",
   "execution_count": 22,
   "id": "4f40bf1e",
   "metadata": {},
   "outputs": [
    {
     "name": "stdout",
     "output_type": "stream",
     "text": [
      "['am', 'le', 'ar', 'ni', 'ng', 'te', 'xt', 'an', 'al', 'yt', 'ic']\n"
     ]
    }
   ],
   "source": [
    "# Metacharacter \\w\\w\n",
    "\n",
    "sentence7 = re.findall (r'\\w\\w', 'I am learning text analytics') \n",
    "print (sentence7) \n",
    " \n",
    "# 2 consecutive characters are selected"
   ]
  },
  {
   "cell_type": "code",
   "execution_count": 23,
   "id": "071ec6e1",
   "metadata": {},
   "outputs": [
    {
     "name": "stdout",
     "output_type": "stream",
     "text": [
      "['am', 'le', 'te', 'an']\n"
     ]
    }
   ],
   "source": [
    "# Metacharacter \\b\\w\\w\n",
    "\n",
    "sentence8 = re.findall (r'\\b\\w\\w', 'I am learning text analytics') \n",
    "print (sentence8) \n",
    " \n",
    "# 2 consecutive characters in a string are selected \n"
   ]
  },
  {
   "cell_type": "code",
   "execution_count": 24,
   "id": "32257970",
   "metadata": {},
   "outputs": [
    {
     "name": "stdout",
     "output_type": "stream",
     "text": [
      "['@text', '@analytics', '@textanalytics']\n"
     ]
    }
   ],
   "source": [
    "# Extracting the domain type of email address\n",
    "\n",
    "sentence9 = re.findall (r'@\\w+', 'user@text.com.my, user@analytics.gov.my, user@textanalytics.edu.my')\n",
    "print (sentence9) \n",
    " \n",
    "# Only the first word in the domain name is selected "
   ]
  },
  {
   "cell_type": "code",
   "execution_count": 25,
   "id": "d7a6ac80",
   "metadata": {},
   "outputs": [
    {
     "name": "stdout",
     "output_type": "stream",
     "text": [
      "['@text.com', '@analytics.gov', '@textanalytics.edu']\n"
     ]
    }
   ],
   "source": [
    "sentence10 = re.findall (r'@\\w+.\\w+','user@text.com.my, user@analytics.gov.my, user@textanalytics.edu.my')\n",
    "print (sentence10)"
   ]
  },
  {
   "cell_type": "code",
   "execution_count": 26,
   "id": "996ec361",
   "metadata": {},
   "outputs": [
    {
     "name": "stdout",
     "output_type": "stream",
     "text": [
      "['@text.com.my', '@analytics.gov.my', '@textanalytics.edu.my']\n"
     ]
    }
   ],
   "source": [
    "sentence11 = re.findall (r'@\\w+.\\w+.\\w+', 'user@text.com.my, user@analytics.gov.my, user@textanalytics.edu.my')\n",
    "print (sentence11) \n",
    " \n",
    "# The full domain name is selected \n"
   ]
  },
  {
   "cell_type": "code",
   "execution_count": 31,
   "id": "96a510f5",
   "metadata": {},
   "outputs": [
    {
     "name": "stdout",
     "output_type": "stream",
     "text": [
      "['com.my', 'gov.my', 'edu.my']\n"
     ]
    }
   ],
   "source": [
    "# Solution  \n",
    " \n",
    "sentence12 = re.findall (r'@\\w+.(\\w+.\\w+)', 'user@text.com.my, user@analytics.gov.my, user@analytics.edu.my ' ) \n",
    "print (sentence12) \n",
    " \n",
    "# To display the type of domain \n"
   ]
  },
  {
   "cell_type": "code",
   "execution_count": 32,
   "id": "b399183b",
   "metadata": {},
   "outputs": [
    {
     "name": "stdout",
     "output_type": "stream",
     "text": [
      "['15-05-20', '20-08-20']\n"
     ]
    }
   ],
   "source": [
    "# Extracting Dates\n",
    "\n",
    "sentence13 = re.findall (r'\\d{2}-\\d{2}-\\d{2}', 'Ahmad BIT(IS) 15-05-2001, Johnny BCS(SE) 20-08-2000')\n",
    "print (sentence13) \n",
    " \n",
    "# To display the date in the format of dd-mm-yy \n"
   ]
  },
  {
   "cell_type": "code",
   "execution_count": 33,
   "id": "86cc0d57",
   "metadata": {},
   "outputs": [
    {
     "name": "stdout",
     "output_type": "stream",
     "text": [
      "['15-05-2001', '20-08-2000']\n"
     ]
    }
   ],
   "source": [
    "sentence14 = re.findall (r'\\d{2}-\\d{2}-\\d{4}', 'Ahmad BIT(IS) 15-05-2001, Johnny BCS(SE) 20-08-2000')\n",
    "print (sentence14) \n",
    " \n",
    "# To display the date in the format of dd-mm-yyyy \n"
   ]
  },
  {
   "cell_type": "code",
   "execution_count": 34,
   "id": "af5e1560",
   "metadata": {},
   "outputs": [
    {
     "name": "stdout",
     "output_type": "stream",
     "text": [
      "['2001', '2000']\n"
     ]
    }
   ],
   "source": [
    "sentence15 = re.findall (r'\\d{2}-\\d{2}-(\\d{4})', 'Ahmad BIT(IS) 15-05-2001, Johnny BCS(SE) 20-08-2000')\n",
    "print (sentence15) \n",
    " \n",
    "# Only the year will be displayed \n"
   ]
  },
  {
   "cell_type": "code",
   "execution_count": 35,
   "id": "61584d5b",
   "metadata": {},
   "outputs": [
    {
     "name": "stdout",
     "output_type": "stream",
     "text": [
      "['ave', 'eight', 'ory', 'ooks', 'often', 'ead', 'em', 'in', 'afternoon']\n"
     ]
    }
   ],
   "source": [
    "# Selecting words that start with vowels in a string\n",
    "\n",
    "sentence16 = re.findall (r'[aeiouAEIOU]\\w+', 'I have eight story books. I often read them in afternoon')\n",
    "print (sentence16)\n",
    " \n",
    "# A sequence that starts with a vowel followed by one o rmore characters are selected \t\n"
   ]
  },
  {
   "cell_type": "code",
   "execution_count": 36,
   "id": "2abbf23b",
   "metadata": {},
   "outputs": [
    {
     "name": "stdout",
     "output_type": "stream",
     "text": [
      "['eight', 'often', 'in', 'afternoon']\n"
     ]
    }
   ],
   "source": [
    "sentence17 = re.findall (r'\\b[aeiouAEIOU]\\w+', 'I have eight story books. I often read them in afternoon')\n",
    "print (sentence17) \n",
    " \n",
    "# Only words that start with vowels are selected \n"
   ]
  },
  {
   "cell_type": "code",
   "execution_count": 37,
   "id": "8538f409",
   "metadata": {},
   "outputs": [
    {
     "name": "stdout",
     "output_type": "stream",
     "text": [
      "['have', 'story', 'books', 'read', 'them']\n"
     ]
    }
   ],
   "source": [
    "sentence18 = re.findall (r'\\b[^aeiouAEIOU\\s]\\w+', 'I have eight story books. I often read them in afternoon')\n",
    "print (sentence18) \n",
    " \n",
    "# Only words that start with non-vowels are selected \n"
   ]
  },
  {
   "cell_type": "code",
   "execution_count": 38,
   "id": "43a5d567",
   "metadata": {},
   "outputs": [
    {
     "name": "stdout",
     "output_type": "stream",
     "text": [
      "['I have many story books', ' colouring books', ' I often read them in the afternoon.']\n"
     ]
    }
   ],
   "source": [
    "# Splitting a string with multiple delimiters\n",
    "\n",
    "sentence19 = re.split (r'[;,]', 'I have many story books, colouring books; I often read them in the afternoon.')\n",
    "print (sentence19) \n",
    " \n",
    "# split the words based on the delimiters semi colon and comma \n"
   ]
  },
  {
   "cell_type": "code",
   "execution_count": 39,
   "id": "400b46f1",
   "metadata": {},
   "outputs": [
    {
     "name": "stdout",
     "output_type": "stream",
     "text": [
      "['I', 'have', 'many', 'story', 'books', '', 'colouring', 'books', '', 'I', 'often', 'read', 'them', 'in', 'the', 'afternoon.']\n"
     ]
    }
   ],
   "source": [
    "sentence20 = re.split (r'[;,\\s]', 'I have many story books, colouring books; I often read them in the afternoon.')\n",
    "print (sentence20) \n",
    " \n",
    "# split the words based on the delimiters semi colon, comma and space \n"
   ]
  },
  {
   "cell_type": "code",
   "execution_count": 40,
   "id": "34c57b30",
   "metadata": {},
   "outputs": [
    {
     "name": "stdout",
     "output_type": "stream",
     "text": [
      "I have many story books. colouring books. I often read them in the afternoon.\n"
     ]
    }
   ],
   "source": [
    "# Substituting delimiters\n",
    "\n",
    "sentence21 = re.sub (r'[;,]', '.', 'I have many story books, colouring books; I often read them in the afternoon.')\n",
    "print (sentence21) \n",
    " \n",
    "# Substitute the delimiters semi colon and comma with fullstop \n"
   ]
  },
  {
   "cell_type": "code",
   "execution_count": null,
   "id": "a557b6dc",
   "metadata": {},
   "outputs": [],
   "source": []
  }
 ],
 "metadata": {
  "kernelspec": {
   "display_name": "Python 3 (ipykernel)",
   "language": "python",
   "name": "python3"
  },
  "language_info": {
   "codemirror_mode": {
    "name": "ipython",
    "version": 3
   },
   "file_extension": ".py",
   "mimetype": "text/x-python",
   "name": "python",
   "nbconvert_exporter": "python",
   "pygments_lexer": "ipython3",
   "version": "3.11.5"
  }
 },
 "nbformat": 4,
 "nbformat_minor": 5
}
