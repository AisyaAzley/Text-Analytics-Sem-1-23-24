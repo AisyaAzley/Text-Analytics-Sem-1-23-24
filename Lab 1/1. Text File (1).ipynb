{
 "cells": [
  {
   "cell_type": "code",
   "execution_count": 15,
   "id": "eb38ff76",
   "metadata": {},
   "outputs": [],
   "source": [
    "#opening the file\n",
    "\n",
    "my_file = open('sample_text.txt')"
   ]
  },
  {
   "cell_type": "code",
   "execution_count": 16,
   "id": "9876b880",
   "metadata": {},
   "outputs": [
    {
     "data": {
      "text/plain": [
       "'Hello, this is a quick test file. \\nThis is the second line of the file. '"
      ]
     },
     "execution_count": 16,
     "metadata": {},
     "output_type": "execute_result"
    }
   ],
   "source": [
    "#Reading the file\n",
    "\n",
    "my_file.read()"
   ]
  },
  {
   "cell_type": "code",
   "execution_count": 17,
   "id": "32c5191e",
   "metadata": {},
   "outputs": [
    {
     "data": {
      "text/plain": [
       "''"
      ]
     },
     "execution_count": 17,
     "metadata": {},
     "output_type": "execute_result"
    }
   ],
   "source": [
    "# Read file again without resetting the cursor\n",
    "\n",
    "my_file.read()"
   ]
  },
  {
   "cell_type": "code",
   "execution_count": 18,
   "id": "77bf41b4",
   "metadata": {},
   "outputs": [
    {
     "data": {
      "text/plain": [
       "'Hello, this is a quick test file. \\nThis is the second line of the file. '"
      ]
     },
     "execution_count": 18,
     "metadata": {},
     "output_type": "execute_result"
    }
   ],
   "source": [
    "#Resetting the cursor\n",
    "\n",
    "my_file.seek(0)\n",
    "\n",
    "#Read file again\n",
    "\n",
    "my_file.read()"
   ]
  },
  {
   "cell_type": "code",
   "execution_count": 19,
   "id": "b7e0f65c",
   "metadata": {},
   "outputs": [
    {
     "data": {
      "text/plain": [
       "['Hello, this is a quick test file. \\n',\n",
       " 'This is the second line of the file. ']"
      ]
     },
     "execution_count": 19,
     "metadata": {},
     "output_type": "execute_result"
    }
   ],
   "source": [
    "# Reading file line using readline method \n",
    "\n",
    "my_file.seek(0)\n",
    "my_file.readlines()"
   ]
  },
  {
   "cell_type": "code",
   "execution_count": 20,
   "id": "ec4deb88",
   "metadata": {},
   "outputs": [],
   "source": [
    "# Closing the file\n",
    "\n",
    "my_file.close()"
   ]
  },
  {
   "cell_type": "code",
   "execution_count": 25,
   "id": "dadcba98",
   "metadata": {},
   "outputs": [],
   "source": [
    "#open file to rewrite it, add w or w+ argument to enable write by deleting og content\n",
    "\n",
    "my_file = open ('sample_text.txt', 'w+')"
   ]
  },
  {
   "cell_type": "code",
   "execution_count": 26,
   "id": "02d1d713",
   "metadata": {},
   "outputs": [
    {
     "data": {
      "text/plain": [
       "24"
      ]
     },
     "execution_count": 26,
     "metadata": {},
     "output_type": "execute_result"
    }
   ],
   "source": [
    "my_file.write('This is a new first line')"
   ]
  },
  {
   "cell_type": "code",
   "execution_count": 27,
   "id": "6da2a78c",
   "metadata": {},
   "outputs": [
    {
     "data": {
      "text/plain": [
       "'This is a new first line'"
      ]
     },
     "execution_count": 27,
     "metadata": {},
     "output_type": "execute_result"
    }
   ],
   "source": [
    "my_file.seek(0)\n",
    "my_file.read()"
   ]
  },
  {
   "cell_type": "code",
   "execution_count": 28,
   "id": "b4a213a4",
   "metadata": {},
   "outputs": [],
   "source": [
    "my_file.close()"
   ]
  },
  {
   "cell_type": "code",
   "execution_count": 32,
   "id": "0cea0df7",
   "metadata": {},
   "outputs": [
    {
     "data": {
      "text/plain": [
       "23"
      ]
     },
     "execution_count": 32,
     "metadata": {},
     "output_type": "execute_result"
    }
   ],
   "source": [
    "# argument 'a' opens the file and puts the pointer at the end, so anything written is appended\n",
    "\n",
    "my_file = open ('sample_text.txt','a+')\n",
    "\n",
    "my_file.write('\\n This line is being appended to text.txt')\n",
    "my_file.write('\\n And another line here')\n"
   ]
  },
  {
   "cell_type": "code",
   "execution_count": 33,
   "id": "c9b258c7",
   "metadata": {},
   "outputs": [
    {
     "data": {
      "text/plain": [
       "'This is a new first line\\n This line is being appended to text.txt\\n And another line here'"
      ]
     },
     "execution_count": 33,
     "metadata": {},
     "output_type": "execute_result"
    }
   ],
   "source": [
    "my_file.seek(0)\n",
    "my_file.read()"
   ]
  },
  {
   "cell_type": "code",
   "execution_count": 34,
   "id": "daa8c7de",
   "metadata": {},
   "outputs": [],
   "source": [
    "my_file.close()"
   ]
  },
  {
   "cell_type": "code",
   "execution_count": 35,
   "id": "00ecf6b2",
   "metadata": {},
   "outputs": [
    {
     "name": "stdout",
     "output_type": "stream",
     "text": [
      "This is a new first line\n",
      " This line is being appended to text.txt\n",
      " And another line here"
     ]
    }
   ],
   "source": [
    "# iterating through file\n",
    "\n",
    "with open ('sample_text.txt', 'r') as txt:\n",
    "    for line in txt:\n",
    "        print(line, end='')"
   ]
  },
  {
   "cell_type": "code",
   "execution_count": null,
   "id": "8221fb1a",
   "metadata": {},
   "outputs": [],
   "source": []
  }
 ],
 "metadata": {
  "kernelspec": {
   "display_name": "Python 3 (ipykernel)",
   "language": "python",
   "name": "python3"
  },
  "language_info": {
   "codemirror_mode": {
    "name": "ipython",
    "version": 3
   },
   "file_extension": ".py",
   "mimetype": "text/x-python",
   "name": "python",
   "nbconvert_exporter": "python",
   "pygments_lexer": "ipython3",
   "version": "3.11.5"
  }
 },
 "nbformat": 4,
 "nbformat_minor": 5
}
